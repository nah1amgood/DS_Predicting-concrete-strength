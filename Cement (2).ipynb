{
  "cells": [
    {
      "cell_type": "markdown",
      "id": "9a9ada08-c9f0-466f-91a0-265fa539f9f5",
      "metadata": {
        "id": "9a9ada08-c9f0-466f-91a0-265fa539f9f5"
      },
      "source": [
        "# Can you predict the strength of concrete?\n",
        "\n",
        "## 📖 Background\n",
        "You work in the civil engineering department of a major university. You are part of a project testing the strength of concrete samples. \n",
        "\n",
        "Concrete is the most widely used building material in the world. It is a mix of cement and water with gravel and sand. It can also include other materials like fly ash, blast furnace slag, and additives. \n",
        "\n",
        "The compressive strength of concrete is a function of components and age, so your team is testing different combinations of ingredients at different time intervals. \n",
        "\n",
        "The project leader asked you to find a simple way to estimate strength so that students can predict how a particular sample is expected to perform."
      ]
    },
    {
      "cell_type": "markdown",
      "id": "10dcc269-3659-4851-99cd-f1ffb7f818aa",
      "metadata": {
        "id": "10dcc269-3659-4851-99cd-f1ffb7f818aa"
      },
      "source": [
        "## 💾 The data\n",
        "The team has already tested more than a thousand samples ([source](https://archive.ics.uci.edu/ml/datasets/concrete+compressive+strength)):\n",
        "\n",
        "#### Compressive strength data:\n",
        "- \"cement\" - Portland cement in kg/m3\n",
        "- \"slag\" - Blast furnace slag in kg/m3\n",
        "- \"fly_ash\" - Fly ash in kg/m3\n",
        "- \"water\" - Water in liters/m3\n",
        "- \"superplasticizer\" - Superplasticizer additive in kg/m3\n",
        "- \"coarse_aggregate\" - Coarse aggregate (gravel) in kg/m3\n",
        "- \"fine_aggregate\" - Fine aggregate (sand) in kg/m3\n",
        "- \"age\" - Age of the sample in days\n",
        "- \"strength\" - Concrete compressive strength in megapascals (MPa)\n",
        "\n",
        "***Acknowledgments**: I-Cheng Yeh, \"Modeling of strength of high-performance concrete using artificial neural networks,\" Cement and Concrete Research, Vol. 28, No. 12, pp. 1797-1808 (1998)*."
      ]
    },
    {
      "cell_type": "markdown",
      "id": "54e0ae0c-ff96-443e-9ff3-718f1ab846e5",
      "metadata": {
        "id": "54e0ae0c-ff96-443e-9ff3-718f1ab846e5"
      },
      "source": [
        "## 💪 Challenge\n",
        "Provide your project leader with a formula that estimates the compressive strength. Include:\n",
        "\n",
        "1. The average strength of the concrete samples at 1, 7, 14, and 28 days of age.\n",
        "2. The coefficients $\\beta_{0}$, $\\beta_{1}$ ... $\\beta_{8}$, to use in the following formula:\n",
        "\n",
        "$$ Concrete \\ Strength = \\beta_{0} \\ + \\ \\beta_{1}*cement \\ + \\ \\beta_{2}*slag \\ + \\ \\beta_{3}*fly \\ ash  \\ + \\ \\beta_{4}*water \\ + $$ \n",
        "$$ \\beta_{5}*superplasticizer \\ + \\ \\beta_{6}*coarse \\ aggregate \\ + \\ \\beta_{7}*fine \\ aggregate \\ + \\ \\beta_{8}*age $$"
      ]
    },
    {
      "cell_type": "markdown",
      "id": "3bef7acb-5b00-4282-8c3e-1aa34bf4b7df",
      "metadata": {
        "id": "3bef7acb-5b00-4282-8c3e-1aa34bf4b7df"
      },
      "source": [
        "## ⌛️ Time is ticking. Good luck!"
      ]
    },
    {
      "cell_type": "code",
      "execution_count": null,
      "id": "61d09a65-7a7f-43de-951b-decb042f5bd0",
      "metadata": {
        "id": "61d09a65-7a7f-43de-951b-decb042f5bd0"
      },
      "outputs": [],
      "source": [
        "#necessary lib\n",
        "import pandas as pd\n",
        "import numpy as np\n",
        "import matplotlib.pyplot as plt\n",
        "import seaborn as sns\n",
        "\n",
        "#model\n",
        "from imblearn.under_sampling import RandomUnderSampler\n",
        "from imblearn.over_sampling import RandomOverSampler\n",
        "from sklearn.linear_model import LinearRegression\n",
        "from sklearn.model_selection import train_test_split\n",
        "\n",
        "import math\n",
        "#metric\n",
        "from sklearn.metrics import r2_score\n",
        "from sklearn.metrics import mean_squared_error\n",
        "from sklearn.metrics import mean_absolute_error"
      ]
    },
    {
      "cell_type": "code",
      "source": [
        "data=pd.read_csv('/content/concrete_data.csv')\n",
        "data1 = data[data['age']<=28]"
      ],
      "metadata": {
        "id": "23D3x2Ojrqax"
      },
      "id": "23D3x2Ojrqax",
      "execution_count": null,
      "outputs": []
    },
    {
      "cell_type": "code",
      "execution_count": null,
      "id": "4633438a-43fd-4735-9f52-7c93be378241",
      "metadata": {
        "colab": {
          "base_uri": "https://localhost:8080/"
        },
        "id": "4633438a-43fd-4735-9f52-7c93be378241",
        "outputId": "331eae6a-4cb8-4f23-f0f1-465ee0e720d7"
      },
      "outputs": [
        {
          "output_type": "stream",
          "name": "stdout",
          "text": [
            "age_1: \n",
            " 9.452715959999999\n",
            "age_7: \n",
            " 26.050623361474695\n",
            "age_14: \n",
            ", 28.751037994193556\n",
            "age_28: \n",
            " 36.748480284084714\n"
          ]
        },
        {
          "output_type": "stream",
          "name": "stderr",
          "text": [
            "/usr/local/lib/python3.7/dist-packages/ipykernel_launcher.py:4: UserWarning: Boolean Series key will be reindexed to match DataFrame index.\n",
            "  after removing the cwd from sys.path.\n"
          ]
        }
      ],
      "source": [
        "age_1 =data1[data1['age']==1]\n",
        "age_7 =data1[data1['age']==7]\n",
        "age_14 =data1[data1['age']==14]\n",
        "age_28 =data1[data['age']==28]\n",
        "#The average strength of the concrete samples at 1, 7, 14, and 28 days of age\n",
        "print(\"age_1: \\n\" ,age_1['strength'].mean())\n",
        "print(\"age_7: \\n\" ,age_7['strength'].mean())\n",
        "print(\"age_14: \\n,\" ,age_14['strength'].mean())\n",
        "print(\"age_28: \\n\" ,age_28['strength'].mean())\n"
      ]
    },
    {
      "cell_type": "code",
      "source": [
        "data2 = data1[data1['age']>1]\n",
        "data2 = data2.astype(int)\n",
        "data2.info()"
      ],
      "metadata": {
        "colab": {
          "base_uri": "https://localhost:8080/"
        },
        "id": "m9MUpj_Bwio1",
        "outputId": "c6b18c64-a88f-4342-e8a1-190daf423e12"
      },
      "id": "m9MUpj_Bwio1",
      "execution_count": null,
      "outputs": [
        {
          "output_type": "stream",
          "name": "stdout",
          "text": [
            "<class 'pandas.core.frame.DataFrame'>\n",
            "Int64Index: 747 entries, 0 to 1029\n",
            "Data columns (total 9 columns):\n",
            " #   Column            Non-Null Count  Dtype\n",
            "---  ------            --------------  -----\n",
            " 0   cement            747 non-null    int64\n",
            " 1   slag              747 non-null    int64\n",
            " 2   fly_ash           747 non-null    int64\n",
            " 3   water             747 non-null    int64\n",
            " 4   superplasticizer  747 non-null    int64\n",
            " 5   coarse_aggregate  747 non-null    int64\n",
            " 6   fine_aggregate    747 non-null    int64\n",
            " 7   age               747 non-null    int64\n",
            " 8   strength          747 non-null    int64\n",
            "dtypes: int64(9)\n",
            "memory usage: 58.4 KB\n"
          ]
        }
      ]
    },
    {
      "cell_type": "code",
      "source": [
        "sns.countplot(data=data2,y='age')"
      ],
      "metadata": {
        "colab": {
          "base_uri": "https://localhost:8080/",
          "height": 296
        },
        "id": "Ds_NUhLtEqtF",
        "outputId": "558f3cdd-843f-459d-8feb-45d63a797a07"
      },
      "id": "Ds_NUhLtEqtF",
      "execution_count": null,
      "outputs": [
        {
          "output_type": "execute_result",
          "data": {
            "text/plain": [
              "<matplotlib.axes._subplots.AxesSubplot at 0x7f0aa14a2bd0>"
            ]
          },
          "metadata": {},
          "execution_count": 5
        },
        {
          "output_type": "display_data",
          "data": {
            "text/plain": [
              "<Figure size 432x288 with 1 Axes>"
            ],
            "image/png": "[encoded data removed]"
          },
          "metadata": {
            "needs_background": "light"
          }
        }
      ]
    },
    {
      "cell_type": "code",
      "source": [
        "#Create X and y for trainning\n",
        "X= data2.drop('strength',axis=1)\n",
        "y = data2['strength']"
      ],
      "metadata": {
        "id": "d5VA0hF_9Lmp"
      },
      "id": "d5VA0hF_9Lmp",
      "execution_count": null,
      "outputs": []
    },
    {
      "cell_type": "code",
      "source": [
        "# resampling X, y\n",
        "res = RandomOverSampler(random_state=42)\n",
        "X_res,y_res = res.fit_resample(X,y)"
      ],
      "metadata": {
        "id": "q_Xec7TP873N"
      },
      "id": "q_Xec7TP873N",
      "execution_count": null,
      "outputs": []
    },
    {
      "cell_type": "code",
      "source": [
        "#build model\n",
        "linear = LinearRegression()\n",
        "X_train, X_test, y_train, y_test = train_test_split(X_res, y_res, test_size=0.33, random_state=42)\n",
        "reg = linear.fit(X_train,y_train)\n",
        "y_pred = reg.predict(X_test)\n",
        "#reuslt of model\n",
        "print(\"Coefficients: \\n\", (reg.coef_))\n",
        "print(\"Intercept: \\n\" , (reg.intercept_))"
      ],
      "metadata": {
        "colab": {
          "base_uri": "https://localhost:8080/"
        },
        "id": "9G7mjnIT4B_W",
        "outputId": "e13eb09c-8706-4419-88bb-98a7d5c6d218"
      },
      "id": "9G7mjnIT4B_W",
      "execution_count": null,
      "outputs": [
        {
          "output_type": "stream",
          "name": "stdout",
          "text": [
            "Coefficients: \n",
            " [ 0.14391327  0.11903349  0.08142175 -0.25206443 -0.28326932  0.0238476\n",
            "  0.02091689  0.91772642]\n",
            "Intercept: \n",
            " -29.56813921169232\n"
          ]
        }
      ]
    },
    {
      "cell_type": "markdown",
      "source": [
        "cement            747 non-null    int64\n",
        " 1   slag              747 non-null    int64\n",
        " 2   fly_ash           747 non-null    int64\n",
        " 3   water             747 non-null    int64\n",
        " 4   superplasticizer  747 non-null    int64\n",
        " 5   coarse_aggregate  747 non-null    int64\n",
        " 6   fine_aggregate    747 non-null    int64\n",
        " 7   age               747 non-null    int64\n",
        " 8   strength"
      ],
      "metadata": {
        "id": "I083VkgLFm0k"
      },
      "id": "I083VkgLFm0k"
    },
    {
      "cell_type": "code",
      "source": [
        "result =pd.DataFrame(reg.coef_,columns=['Coefficients'])\n",
        "result['Material'] = ['cement','slag','fly_ash','water','superplasticizer','coarse_aggregate','fine_aggregate','age']\n",
        "intercept = {'Coefficients':-29.56813921169232,'Material':'intercept/B0'}"
      ],
      "metadata": {
        "id": "vNjckpsTFZdG"
      },
      "id": "vNjckpsTFZdG",
      "execution_count": null,
      "outputs": []
    },
    {
      "cell_type": "code",
      "source": [
        "result = result.append(intercept, ignore_index=True)\n",
        "result"
      ],
      "metadata": {
        "colab": {
          "base_uri": "https://localhost:8080/",
          "height": 328
        },
        "id": "hrZDn3EuIU3x",
        "outputId": "7e31f6a2-e2e3-435e-f597-75044480d0aa"
      },
      "id": "hrZDn3EuIU3x",
      "execution_count": null,
      "outputs": [
        {
          "output_type": "execute_result",
          "data": {
            "text/plain": [
              "   Coefficients          Material\n",
              "0      0.143913            cement\n",
              "1      0.119033              slag\n",
              "2      0.081422           fly_ash\n",
              "3     -0.252064             water\n",
              "4     -0.283269  superplasticizer\n",
              "5      0.023848  coarse_aggregate\n",
              "6      0.020917    fine_aggregate\n",
              "7      0.917726               age\n",
              "8    -29.568139      intercept/B0"
            ],
            "text/html": [
              "\n",
              "  <div id=\"df-8fb790fe-6eb8-4ebe-8c68-06c3829e504a\">\n",
              "    <div class=\"colab-df-container\">\n",
              "      <div>\n",
              "<style scoped>\n",
              "    .dataframe tbody tr th:only-of-type {\n",
              "        vertical-align: middle;\n",
              "    }\n",
              "\n",
              "    .dataframe tbody tr th {\n",
              "        vertical-align: top;\n",
              "    }\n",
              "\n",
              "    .dataframe thead th {\n",
              "        text-align: right;\n",
              "    }\n",
              "</style>\n",
              "<table border=\"1\" class=\"dataframe\">\n",
              "  <thead>\n",
              "    <tr style=\"text-align: right;\">\n",
              "      <th></th>\n",
              "      <th>Coefficients</th>\n",
              "      <th>Material</th>\n",
              "    </tr>\n",
              "  </thead>\n",
              "  <tbody>\n",
              "    <tr>\n",
              "      <th>0</th>\n",
              "      <td>0.143913</td>\n",
              "      <td>cement</td>\n",
              "    </tr>\n",
              "    <tr>\n",
              "      <th>1</th>\n",
              "      <td>0.119033</td>\n",
              "      <td>slag</td>\n",
              "    </tr>\n",
              "    <tr>\n",
              "      <th>2</th>\n",
              "      <td>0.081422</td>\n",
              "      <td>fly_ash</td>\n",
              "    </tr>\n",
              "    <tr>\n",
              "      <th>3</th>\n",
              "      <td>-0.252064</td>\n",
              "      <td>water</td>\n",
              "    </tr>\n",
              "    <tr>\n",
              "      <th>4</th>\n",
              "      <td>-0.283269</td>\n",
              "      <td>superplasticizer</td>\n",
              "    </tr>\n",
              "    <tr>\n",
              "      <th>5</th>\n",
              "      <td>0.023848</td>\n",
              "      <td>coarse_aggregate</td>\n",
              "    </tr>\n",
              "    <tr>\n",
              "      <th>6</th>\n",
              "      <td>0.020917</td>\n",
              "      <td>fine_aggregate</td>\n",
              "    </tr>\n",
              "    <tr>\n",
              "      <th>7</th>\n",
              "      <td>0.917726</td>\n",
              "      <td>age</td>\n",
              "    </tr>\n",
              "    <tr>\n",
              "      <th>8</th>\n",
              "      <td>-29.568139</td>\n",
              "      <td>intercept/B0</td>\n",
              "    </tr>\n",
              "  </tbody>\n",
              "</table>\n",
              "</div>\n",
              "      <button class=\"colab-df-convert\" onclick=\"convertToInteractive('df-8fb790fe-6eb8-4ebe-8c68-06c3829e504a')\"\n",
              "              title=\"Convert this dataframe to an interactive table.\"\n",
              "              style=\"display:none;\">\n",
              "        \n",
              "  <svg xmlns=\"http://www.w3.org/2000/svg\" height=\"24px\"viewBox=\"0 0 24 24\"\n",
              "       width=\"24px\">\n",
              "    <path d=\"M0 0h24v24H0V0z\" fill=\"none\"/>\n",
              "    <path d=\"M18.56 5.44l.94 2.06.94-2.06 2.06-.94-2.06-.94-.94-2.06-.94 2.06-2.06.94zm-11 1L8.5 8.5l.94-2.06 2.06-.94-2.06-.94L8.5 2.5l-.94 2.06-2.06.94zm10 10l.94 2.06.94-2.06 2.06-.94-2.06-.94-.94-2.06-.94 2.06-2.06.94z\"/><path d=\"M17.41 7.96l-1.37-1.37c-.4-.4-.92-.59-1.43-.59-.52 0-1.04.2-1.43.59L10.3 9.45l-7.72 7.72c-.78.78-.78 2.05 0 2.83L4 21.41c.39.39.9.59 1.41.59.51 0 1.02-.2 1.41-.59l7.78-7.78 2.81-2.81c.8-.78.8-2.07 0-2.86zM5.41 20L4 18.59l7.72-7.72 1.47 1.35L5.41 20z\"/>\n",
              "  </svg>\n",
              "      </button>\n",
              "      \n",
              "  <style>\n",
              "    .colab-df-container {\n",
              "      display:flex;\n",
              "      flex-wrap:wrap;\n",
              "      gap: 12px;\n",
              "    }\n",
              "\n",
              "    .colab-df-convert {\n",
              "      background-color: #E8F0FE;\n",
              "      border: none;\n",
              "      border-radius: 50%;\n",
              "      cursor: pointer;\n",
              "      display: none;\n",
              "      fill: #1967D2;\n",
              "      height: 32px;\n",
              "      padding: 0 0 0 0;\n",
              "      width: 32px;\n",
              "    }\n",
              "\n",
              "    .colab-df-convert:hover {\n",
              "      background-color: #E2EBFA;\n",
              "      box-shadow: 0px 1px 2px rgba(60, 64, 67, 0.3), 0px 1px 3px 1px rgba(60, 64, 67, 0.15);\n",
              "      fill: #174EA6;\n",
              "    }\n",
              "\n",
              "    [theme=dark] .colab-df-convert {\n",
              "      background-color: #3B4455;\n",
              "      fill: #D2E3FC;\n",
              "    }\n",
              "\n",
              "    [theme=dark] .colab-df-convert:hover {\n",
              "      background-color: #434B5C;\n",
              "      box-shadow: 0px 1px 3px 1px rgba(0, 0, 0, 0.15);\n",
              "      filter: drop-shadow(0px 1px 2px rgba(0, 0, 0, 0.3));\n",
              "      fill: #FFFFFF;\n",
              "    }\n",
              "  </style>\n",
              "\n",
              "      <script>\n",
              "        const buttonEl =\n",
              "          document.querySelector('#df-8fb790fe-6eb8-4ebe-8c68-06c3829e504a button.colab-df-convert');\n",
              "        buttonEl.style.display =\n",
              "          google.colab.kernel.accessAllowed ? 'block' : 'none';\n",
              "\n",
              "        async function convertToInteractive(key) {\n",
              "          const element = document.querySelector('#df-8fb790fe-6eb8-4ebe-8c68-06c3829e504a');\n",
              "          const dataTable =\n",
              "            await google.colab.kernel.invokeFunction('convertToInteractive',\n",
              "                                                     [key], {});\n",
              "          if (!dataTable) return;\n",
              "\n",
              "          const docLinkHtml = 'Like what you see? Visit the ' +\n",
              "            '<a target=\"_blank\" href=https://colab.research.google.com/notebooks/data_table.ipynb>data table notebook</a>'\n",
              "            + ' to learn more about interactive tables.';\n",
              "          element.innerHTML = '';\n",
              "          dataTable['output_type'] = 'display_data';\n",
              "          await google.colab.output.renderOutput(dataTable, element);\n",
              "          const docLink = document.createElement('div');\n",
              "          docLink.innerHTML = docLinkHtml;\n",
              "          element.appendChild(docLink);\n",
              "        }\n",
              "      </script>\n",
              "    </div>\n",
              "  </div>\n",
              "  "
            ]
          },
          "metadata": {},
          "execution_count": 10
        }
      ]
    },
    {
      "cell_type": "code",
      "source": [
        "#check metric model\n",
        "print(\"MSE_score: \\n\",mean_squared_error(y_test, y_pred))\n",
        "print(\"RMSE_score: \\n\",math.sqrt(mean_squared_error(y_test, y_pred)))\n",
        "print(\"R2_score: \\n\",r2_score(y_test, y_pred)) \n",
        "print(\"MAE_score: \\n\",mean_absolute_error(y_test, y_pred))"
      ],
      "metadata": {
        "colab": {
          "base_uri": "https://localhost:8080/"
        },
        "id": "K6U5X2UGV3di",
        "outputId": "e361ce97-99f0-4a77-cdad-a683baa9a1ae"
      },
      "id": "K6U5X2UGV3di",
      "execution_count": null,
      "outputs": [
        {
          "output_type": "stream",
          "name": "stdout",
          "text": [
            "MSE_score: \n",
            " 66.49302047693442\n",
            "RMSE_score: \n",
            " 8.154325261904532\n",
            "R2_score: \n",
            " 0.8604575424582905\n",
            "MAE_score: \n",
            " 6.469977532175599\n"
          ]
        }
      ]
    },
    {
      "cell_type": "code",
      "source": [
        "sns.heatmap(data1.corr(),annot=True)"
      ],
      "metadata": {
        "colab": {
          "base_uri": "https://localhost:8080/",
          "height": 366
        },
        "id": "aY2WHKX7Q2pM",
        "outputId": "bba02762-3127-4928-f7f9-00b683e3c3c6"
      },
      "id": "aY2WHKX7Q2pM",
      "execution_count": null,
      "outputs": [
        {
          "output_type": "execute_result",
          "data": {
            "text/plain": [
              "<matplotlib.axes._subplots.AxesSubplot at 0x7f0aa0658b10>"
            ]
          },
          "metadata": {},
          "execution_count": 12
        },
        {
          "output_type": "display_data",
          "data": {
            "text/plain": [
              "<Figure size 432x288 with 2 Axes>"
            ],
            "image/png": "[encoded data removed]"
          },
          "metadata": {
            "needs_background": "light"
          }
        }
      ]
    }
  ],
  "metadata": {
    "kernelspec": {
      "display_name": "Python 3 (ipykernel)",
      "language": "python",
      "name": "python3"
    },
    "language_info": {
      "codemirror_mode": {
        "name": "ipython",
        "version": 3
      },
      "file_extension": ".py",
      "mimetype": "text/x-python",
      "name": "python",
      "nbconvert_exporter": "python",
      "pygments_lexer": "ipython3",
      "version": "3.8.10"
    },
    "colab": {
      "name": "Cement.ipynb",
      "provenance": [],
      "collapsed_sections": [
        "10dcc269-3659-4851-99cd-f1ffb7f818aa",
        "54e0ae0c-ff96-443e-9ff3-718f1ab846e5"
      ]
    }
  },
  "nbformat": 4,
  "nbformat_minor": 5
}